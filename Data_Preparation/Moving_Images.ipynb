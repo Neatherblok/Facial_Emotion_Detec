{
 "cells": [
  {
   "cell_type": "code",
   "execution_count": 9,
   "id": "4d2e01f4",
   "metadata": {},
   "outputs": [
    {
     "name": "stdout",
     "output_type": "stream",
     "text": [
      "Could not find ï»¿PrivateTest_88305.jpg in C:\\Users\\grees\\Desktop\\Test\\Angry\n",
      "Could not find PrivateTest_731447.jpg in C:\\Users\\grees\\Desktop\\Test\\Angry\n",
      "Could not find PrivateTest_1054527.jpg in C:\\Users\\grees\\Desktop\\Test\\Angry\n",
      "Could not find PrivateTest_1109992.jpg in C:\\Users\\grees\\Desktop\\Test\\Angry\n",
      "Could not find PrivateTest_1221822.jpg in C:\\Users\\grees\\Desktop\\Test\\Angry\n",
      "Could not find PrivateTest_1290484.jpg in C:\\Users\\grees\\Desktop\\Test\\Angry\n"
     ]
    }
   ],
   "source": [
    "import os\n",
    "import shutil\n",
    "import pandas as pd\n",
    "\n",
    "# Paths\n",
    "image_list_path = \"C:\\\\Users\\\\grees\\\\Desktop\\\\Test\\\\mysheet.csv\"  # Path to the CSV file containing the list of image names\n",
    "source_folder = \"C:\\\\Users\\\\grees\\\\Desktop\\\\Test\\\\Angry\"      # Folder containing the images\n",
    "destination_folder = \"C:\\\\Users\\\\grees\\\\Desktop\\\\Test\\\\Newangry\"  # Folder where the images will be moved\n",
    "\n",
    "image_names_df = pd.read_csv(image_list_path, header=None,encoding='latin1')\n",
    "\n",
    "if not os.path.exists(destination_folder):\n",
    "    os.makedirs(destination_folder)\n",
    "\n",
    "for image_name in image_names_df[0]:\n",
    "    source_path = os.path.join(source_folder, image_name)\n",
    "    destination_path = os.path.join(destination_folder, image_name)\n",
    "    if os.path.exists(source_path):\n",
    "        shutil.move(source_path, destination_path)\n",
    "        print(f\"Moved {image_name} to {destination_folder}\")\n",
    "    else:\n",
    "        print(f\"Could not find {image_name} in {source_folder}\")\n"
   ]
  },
  {
   "cell_type": "code",
   "execution_count": null,
   "id": "9ea82caa",
   "metadata": {},
   "outputs": [],
   "source": []
  },
  {
   "cell_type": "code",
   "execution_count": null,
   "id": "3dd6ade7",
   "metadata": {},
   "outputs": [],
   "source": []
  }
 ],
 "metadata": {
  "kernelspec": {
   "display_name": "Python 3 (ipykernel)",
   "language": "python",
   "name": "python3"
  },
  "language_info": {
   "codemirror_mode": {
    "name": "ipython",
    "version": 3
   },
   "file_extension": ".py",
   "mimetype": "text/x-python",
   "name": "python",
   "nbconvert_exporter": "python",
   "pygments_lexer": "ipython3",
   "version": "3.11.5"
  }
 },
 "nbformat": 4,
 "nbformat_minor": 5
}
